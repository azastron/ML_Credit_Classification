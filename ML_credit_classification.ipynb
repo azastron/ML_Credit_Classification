{
 "cells": [
  {
   "cell_type": "markdown",
   "metadata": {},
   "source": [
    "## Classification on credit-g dataset\n",
    "This code includes my answers to the first part of homework 2 of Andreas Muller's course, Applied Machine Learning, Spring 2020 at Columbia (https://www.cs.columbia.edu/~amueller/comsw4995s20/schedule/). \n",
    "- The dataset for classification part can be donwloaded with \"fetch_openml('credit_g')\" and its description can be found at https://www.openml.org/d/31.\n",
    "German Credit data: This dataset classifies people described by a set of attributes as good or bad credit risks."
   ]
  },
  {
   "cell_type": "code",
   "execution_count": 1,
   "metadata": {},
   "outputs": [],
   "source": [
    "import pandas as pd\n",
    "import numpy as np\n",
    "import matplotlib.pyplot as plt\n",
    "\n",
    "from sklearn.model_selection import train_test_split, cross_val_score, cross_validate, GridSearchCV, KFold, StratifiedKFold, ShuffleSplit, RepeatedStratifiedKFold\n",
    "from sklearn.neighbors import KNeighborsClassifier, KNeighborsRegressor\n",
    "from sklearn.dummy import DummyClassifier\n",
    "from sklearn.linear_model import Ridge, Lasso, LinearRegression, ElasticNet, LogisticRegression\n",
    "from sklearn.pipeline import make_pipeline, Pipeline\n",
    "from sklearn.preprocessing import StandardScaler, PolynomialFeatures, MinMaxScaler, OneHotEncoder, MaxAbsScaler, Normalizer, LabelEncoder\n",
    "from sklearn.compose import make_column_transformer\n",
    "from sklearn.tree import DecisionTreeRegressor\n",
    "from sklearn.svm import LinearSVC \n",
    "from sklearn.impute import SimpleImputer\n",
    "\n",
    "from sklearn.datasets import fetch_openml"
   ]
  },
  {
   "cell_type": "markdown",
   "metadata": {},
   "source": [
    "## Classification on credit-g dataset\n",
    "**1.**\n",
    "Read the data file and find the features."
   ]
  },
  {
   "cell_type": "code",
   "execution_count": 2,
   "metadata": {},
   "outputs": [],
   "source": [
    "creditg = fetch_openml('credit-g')"
   ]
  },
  {
   "cell_type": "code",
   "execution_count": 3,
   "metadata": {},
   "outputs": [],
   "source": [
    "df = pd.DataFrame(creditg['data'], columns=creditg['feature_names'])"
   ]
  },
  {
   "cell_type": "code",
   "execution_count": 4,
   "metadata": {},
   "outputs": [],
   "source": [
    "df['target'] = creditg['target']"
   ]
  },
  {
   "cell_type": "code",
   "execution_count": 5,
   "metadata": {},
   "outputs": [],
   "source": [
    "features = ['duration', 'credit_amount', 'installment_commitment','residence_since','age','existing_credits','num_dependents','checking_status','credit_history','purpose','savings_status','employment','personal_status','other_parties','property_magnitude','other_payment_plans','housing','job','own_telephone','foreign_worker']"
   ]
  },
  {
   "cell_type": "markdown",
   "metadata": {},
   "source": [
    "**1.1.**\n",
    "Determine which features are continuous and which are categorical, using the features detail on the website."
   ]
  },
  {
   "cell_type": "code",
   "execution_count": 6,
   "metadata": {},
   "outputs": [],
   "source": [
    "features_cont = ['duration', 'credit_amount', 'installment_commitment','residence_since','age','existing_credits','num_dependents']"
   ]
  },
  {
   "cell_type": "code",
   "execution_count": 7,
   "metadata": {},
   "outputs": [],
   "source": [
    "features_cat = ['checking_status','credit_history','purpose','savings_status','employment','personal_status','other_parties','property_magnitude','other_payment_plans','housing','job','own_telephone','foreign_worker']"
   ]
  },
  {
   "cell_type": "markdown",
   "metadata": {},
   "source": [
    "**1.2.**\n",
    "Visualize the univariate distribution of each continuous feature, and the distribution of the target."
   ]
  },
  {
   "cell_type": "code",
   "execution_count": 11,
   "metadata": {},
   "outputs": [],
   "source": [
    "df['target_ordinal']=df.target.astype(\"category\").cat.codes"
   ]
  },
  {
   "cell_type": "code",
   "execution_count": 13,
   "metadata": {},
   "outputs": [
    {
     "data": {
      "image/png": "[encoded data removed]",
      "text/plain": [
       "<Figure size 648x648 with 9 Axes>"
      ]
     },
     "metadata": {
      "needs_background": "light"
     },
     "output_type": "display_data"
    }
   ],
   "source": [
    "fig, axes = plt.subplots(3, 3, figsize=(9, 9))\n",
    "\n",
    "axes[0,0].hist(df['duration'])\n",
    "axes[0,0].set_xlabel('duration')\n",
    "\n",
    "axes[0,1].hist(df['credit_amount'])\n",
    "axes[0,1].set_xlabel('credit_amount')\n",
    "\n",
    "axes[0,2].hist(df['installment_commitment'])\n",
    "axes[0,2].set_xlabel('installment_commitment')\n",
    "\n",
    "axes[1,0].hist(df['residence_since'])\n",
    "axes[1,0].set_xlabel('residence_since')\n",
    "\n",
    "axes[1,1].hist(df['age'])\n",
    "axes[1,1].set_xlabel('age')\n",
    "\n",
    "axes[1,2].hist(df['existing_credits'])\n",
    "axes[1,2].set_xlabel('existing_credits')\n",
    "\n",
    "axes[2,0].hist(df['num_dependents'])\n",
    "axes[2,0].set_xlabel('num_dependents')\n",
    "\n",
    "axes[2,1].hist(df['target_ordinal'])\n",
    "axes[2,1].set_xlabel('target_ordinal')\n",
    "\n",
    "plt.subplots_adjust(hspace=0.4, wspace=0.5)"
   ]
  },
  {
   "cell_type": "markdown",
   "metadata": {},
   "source": [
    "**1.3.**\n",
    "Split data into training and test set. Do not use the test set until a final evaluation in 1.5.\n",
    "Preprocess the data (such as treatment of categorical variables) without using a pipeline and\n",
    "evaluate an initial LogisticRegression model with a training/validation split."
   ]
  },
  {
   "cell_type": "code",
   "execution_count": 16,
   "metadata": {},
   "outputs": [
    {
     "name": "stdout",
     "output_type": "stream",
     "text": [
      "checking_status 4\n",
      "credit_history 5\n",
      "purpose 10\n",
      "savings_status 5\n",
      "employment 5\n",
      "personal_status 4\n",
      "other_parties 3\n",
      "property_magnitude 4\n",
      "other_payment_plans 3\n",
      "housing 3\n",
      "job 4\n",
      "own_telephone 2\n",
      "foreign_worker 2\n"
     ]
    }
   ],
   "source": [
    "for feature in features_cat:\n",
    "    print(feature, len(df[feature].value_counts()))"
   ]
  },
  {
   "cell_type": "code",
   "execution_count": 17,
   "metadata": {},
   "outputs": [],
   "source": [
    "for feature in features_cat:\n",
    "    df[feature] = df[feature].astype(\"category\").cat.codes"
   ]
  },
  {
   "cell_type": "code",
   "execution_count": 21,
   "metadata": {},
   "outputs": [],
   "source": [
    "X_trainval, X_test, y_trainval, y_test = train_test_split(df[features], df['target_ordinal'], random_state=0)"
   ]
  },
  {
   "cell_type": "code",
   "execution_count": 22,
   "metadata": {},
   "outputs": [],
   "source": [
    "X_trainval_treat = pd.get_dummies(X_trainval, columns=features_cat)"
   ]
  },
  {
   "cell_type": "code",
   "execution_count": 23,
   "metadata": {},
   "outputs": [
    {
     "name": "stdout",
     "output_type": "stream",
     "text": [
      "0.748 0.037452191747168365\n"
     ]
    }
   ],
   "source": [
    "lr = LogisticRegression(random_state=0, solver='lbfgs', max_iter=1000)\n",
    "score = cross_val_score(lr, X_trainval_treat, y_trainval, cv=10)\n",
    "print(np.mean(score), np.std(score))"
   ]
  },
  {
   "cell_type": "markdown",
   "metadata": {},
   "source": [
    "**1.4.**\n",
    "Use ColumnTransformer and Pipeline to encode categorical variables (your choice of\n",
    "OneHotEncoder or another one from the categorical_encoder package, or both). Evaluate\n",
    "Logistic Regression, linear support vector machines and nearest neighbors using\n",
    "cross-validation. How different are the results? How does scaling the continuous features with\n",
    "StandardScaler influence the results?"
   ]
  },
  {
   "cell_type": "markdown",
   "metadata": {},
   "source": [
    "### Logistic Regression"
   ]
  },
  {
   "cell_type": "code",
   "execution_count": 26,
   "metadata": {},
   "outputs": [
    {
     "name": "stdout",
     "output_type": "stream",
     "text": [
      "0.7626666666666668 0.040353989201124166\n"
     ]
    }
   ],
   "source": [
    "prep = make_column_transformer((StandardScaler(), features_cont), (OneHotEncoder(categories='auto'), features_cat), remainder='passthrough')\n",
    "\n",
    "pipe_lr = make_pipeline(prep, LogisticRegression(random_state=0, solver='lbfgs', max_iter=1000))\n",
    "\n",
    "score = cross_val_score(pipe_lr, X_trainval, y_trainval, cv=10)\n",
    "print(np.mean(score), np.std(score))"
   ]
  },
  {
   "cell_type": "markdown",
   "metadata": {},
   "source": [
    "### Linear SVM"
   ]
  },
  {
   "cell_type": "code",
   "execution_count": 27,
   "metadata": {},
   "outputs": [
    {
     "name": "stdout",
     "output_type": "stream",
     "text": [
      "0.7533333333333334 0.049261208538429795\n"
     ]
    }
   ],
   "source": [
    "pipe_svm = make_pipeline(prep, LinearSVC(random_state=0, max_iter=100000))\n",
    "\n",
    "score_svm = cross_val_score(pipe_svm, X_trainval, y_trainval, cv=10)\n",
    "print(np.mean(score_svm), np.std(score_svm))"
   ]
  },
  {
   "cell_type": "markdown",
   "metadata": {},
   "source": [
    "### K Nearest Neighbors "
   ]
  },
  {
   "cell_type": "code",
   "execution_count": 28,
   "metadata": {},
   "outputs": [
    {
     "name": "stdout",
     "output_type": "stream",
     "text": [
      "0.732 0.036\n"
     ]
    }
   ],
   "source": [
    "pipe_knn = make_pipeline(prep, KNeighborsClassifier())\n",
    "\n",
    "score_knn = cross_val_score(pipe_knn, X_trainval, y_trainval, cv=10)\n",
    "print(np.mean(score_knn), np.std(score_knn))"
   ]
  },
  {
   "cell_type": "markdown",
   "metadata": {},
   "source": [
    "**1.5.**\n",
    "Tune the parameters using GridSearchCV. Do the results improve? Evaluate only the best\n",
    "model on the test set.\n",
    "Visualize the performance as function of the parameters for all three models."
   ]
  },
  {
   "cell_type": "markdown",
   "metadata": {},
   "source": [
    "### Logistic Regression with GridSearchCv"
   ]
  },
  {
   "cell_type": "code",
   "execution_count": 29,
   "metadata": {},
   "outputs": [
    {
     "name": "stdout",
     "output_type": "stream",
     "text": [
      "LogisticRegression Best Parameter: {'C': 1.0}\n",
      "LogisticRegression Best Score: 0.7626666666666668\n"
     ]
    }
   ],
   "source": [
    "X_train_clean = prep.fit_transform(X_trainval)\n",
    "\n",
    "lr_param_grid = {'C': np.logspace(-4, 0, 10)}\n",
    "lr_grid = GridSearchCV(LogisticRegression(random_state=0, solver='lbfgs', max_iter=1000), lr_param_grid, cv=10)\n",
    "lr_grid.fit(X_train_clean, y_trainval)\n",
    "\n",
    "print('LogisticRegression Best Parameter:', lr_grid.best_params_)\n",
    "print('LogisticRegression Best Score:', lr_grid.best_score_)"
   ]
  },
  {
   "cell_type": "markdown",
   "metadata": {},
   "source": [
    "### Linear SVM with GridSearchCv"
   ]
  },
  {
   "cell_type": "code",
   "execution_count": 30,
   "metadata": {},
   "outputs": [
    {
     "name": "stdout",
     "output_type": "stream",
     "text": [
      "LinearSVC Best Parameter: {'C': 0.12915496650148828}\n",
      "LinearSVC Best Score: 0.7626666666666667\n"
     ]
    }
   ],
   "source": [
    "svm_param_grid = {'C': np.logspace(-4, 0, 10)}\n",
    "svm_grid = GridSearchCV(LinearSVC(random_state=0, max_iter=100000), svm_param_grid, cv=10)\n",
    "svm_grid.fit(X_train_clean, y_trainval)\n",
    "\n",
    "print('LinearSVC Best Parameter:', svm_grid.best_params_)\n",
    "print('LinearSVC Best Score:', svm_grid.best_score_)"
   ]
  },
  {
   "cell_type": "markdown",
   "metadata": {},
   "source": [
    "### K Nearest Neighbors with GridSearchCv"
   ]
  },
  {
   "cell_type": "code",
   "execution_count": 31,
   "metadata": {},
   "outputs": [
    {
     "name": "stdout",
     "output_type": "stream",
     "text": [
      "KNeighborsClassifier Best Parameter: {'n_neighbors': 10}\n",
      "KNeighborsClassifier Best Score: 0.7386666666666666\n"
     ]
    }
   ],
   "source": [
    "knn_param_grid = {'n_neighbors': [1, 5, 10, 15]}\n",
    "knn_grid = GridSearchCV(KNeighborsClassifier(), knn_param_grid, cv=10)\n",
    "knn_grid.fit(X_train_clean, y_trainval)\n",
    "\n",
    "print('KNeighborsClassifier Best Parameter:', knn_grid.best_params_)\n",
    "print('KNeighborsClassifier Best Score:', knn_grid.best_score_)"
   ]
  },
  {
   "cell_type": "markdown",
   "metadata": {},
   "source": [
    "### The best model: Linear SVM"
   ]
  },
  {
   "cell_type": "code",
   "execution_count": 33,
   "metadata": {},
   "outputs": [
    {
     "data": {
      "text/plain": [
       "0.736"
      ]
     },
     "execution_count": 33,
     "metadata": {},
     "output_type": "execute_result"
    }
   ],
   "source": [
    "X_test_clean = prep.transform(X_test)\n",
    "\n",
    "best_model = LinearSVC(random_state=0, max_iter=100000, C=0.129)\n",
    "best_model.fit(X_train_clean, y_trainval)\n",
    "\n",
    "\n",
    "best_model.score(X_test_clean, y_test)"
   ]
  },
  {
   "cell_type": "markdown",
   "metadata": {},
   "source": [
    "### Visualizing the model performance vs parameters"
   ]
  },
  {
   "cell_type": "code",
   "execution_count": 34,
   "metadata": {},
   "outputs": [],
   "source": [
    "lr_results = lr_grid.cv_results_\n",
    "lr_params = lr_param_grid['C']\n",
    "lr_mean_scores = lr_results['mean_test_score']\n",
    "\n",
    "svm_results = svm_grid.cv_results_\n",
    "svm_params = svm_param_grid['C']\n",
    "svm_mean_scores = svm_results['mean_test_score']\n",
    "\n",
    "knn_results = knn_grid.cv_results_\n",
    "knn_params = knn_param_grid['n_neighbors']\n",
    "knn_mean_scores = knn_results['mean_test_score']"
   ]
  },
  {
   "cell_type": "code",
   "execution_count": 35,
   "metadata": {},
   "outputs": [
    {
     "data": {
      "image/png": "[encoded data removed]",
      "text/plain": [
       "<Figure size 432x288 with 3 Axes>"
      ]
     },
     "metadata": {
      "needs_background": "light"
     },
     "output_type": "display_data"
    }
   ],
   "source": [
    "fig, ax = plt.subplots(3, 1)\n",
    "\n",
    "ax[0].plot(lr_params, lr_mean_scores)\n",
    "ax[0].set_xlabel('Logistic Regression C', labelpad = 1)\n",
    "#ax[0].set_ylabel('Validation Score', labelpad = 1)\n",
    "\n",
    "ax[1].plot(svm_params, svm_mean_scores)\n",
    "ax[1].set_xlabel('LinearSVC C', labelpad = 1)\n",
    "ax[1].set_ylabel('Validation Score', labelpad = 1)\n",
    "\n",
    "ax[2].plot(knn_params, knn_mean_scores)\n",
    "ax[2].set_xlabel('KNeighborsClassifier n_neighbors', labelpad = 1)\n",
    "#ax[2].set_ylabel('Validation Score', labelpad = 1)\n",
    "\n",
    "plt.subplots_adjust(hspace=1)\n"
   ]
  },
  {
   "cell_type": "markdown",
   "metadata": {},
   "source": [
    "**1.6.**\n",
    "Change the cross-validation strategy from 'stratified k-fold' to 'kfold' with shuffling. Do the\n",
    "parameters that are found change? Do they change if you change the random seed of the\n",
    "shuffling? Or if you change the random state of the split into training and test data"
   ]
  },
  {
   "cell_type": "code",
   "execution_count": 48,
   "metadata": {},
   "outputs": [],
   "source": [
    "kf = KFold(n_splits=100, shuffle=True, random_state=0)"
   ]
  },
  {
   "cell_type": "code",
   "execution_count": 49,
   "metadata": {},
   "outputs": [
    {
     "name": "stdout",
     "output_type": "stream",
     "text": [
      "LogisticRegression Best Parameter: {'C': 0.046415888336127774}\n",
      "LogisticRegression Best Score: 0.7562499999999999\n",
      "LinearSVC Best Parameter: {'C': 0.016681005372000592}\n",
      "LinearSVC Best Score: 0.7580357142857141\n",
      "KNeighborsClassifier Best Parameter: {'n_neighbors': 15}\n",
      "KNeighborsClassifier Best Score: 0.7448214285714285\n"
     ]
    }
   ],
   "source": [
    "#change cv=10 to cv=kf\n",
    "\n",
    "lr_param_grid = {'C': np.logspace(-4, 0, 10)}\n",
    "lr_grid = GridSearchCV(LogisticRegression(random_state=0, solver='lbfgs', max_iter=1000), lr_param_grid, cv=kf)\n",
    "lr_grid.fit(X_train_clean, y_trainval)\n",
    "\n",
    "print('LogisticRegression Best Parameter:', lr_grid.best_params_)\n",
    "print('LogisticRegression Best Score:', lr_grid.best_score_)\n",
    "\n",
    "svm_param_grid = {'C': np.logspace(-4, 0, 10)}\n",
    "svm_grid = GridSearchCV(LinearSVC(random_state=0, max_iter=100000), svm_param_grid, cv=kf)\n",
    "svm_grid.fit(X_train_clean, y_trainval)\n",
    "\n",
    "print('LinearSVC Best Parameter:', svm_grid.best_params_)\n",
    "print('LinearSVC Best Score:', svm_grid.best_score_)\n",
    "\n",
    "knn_param_grid = {'n_neighbors': [1, 5, 10, 15]}\n",
    "knn_grid = GridSearchCV(KNeighborsClassifier(), knn_param_grid, cv=kf)\n",
    "knn_grid.fit(X_train_clean, y_trainval)\n",
    "\n",
    "print('KNeighborsClassifier Best Parameter:', knn_grid.best_params_)\n",
    "print('KNeighborsClassifier Best Score:', knn_grid.best_score_)"
   ]
  },
  {
   "cell_type": "markdown",
   "metadata": {},
   "source": [
    "So yes, changing the CV to kf instead of 10-fold cross validation changes the parameters, but not significantly the scores. Also changing the random_state in kf changes the parametrs."
   ]
  },
  {
   "cell_type": "markdown",
   "metadata": {},
   "source": [
    "**1.7.**\n",
    "Visualize the 20 most important coefficients for LogisticRegression and Linear Support\n",
    "Vector Machines using hyper-parameters that performed well in the grid-search."
   ]
  },
  {
   "cell_type": "code",
   "execution_count": 50,
   "metadata": {},
   "outputs": [
    {
     "data": {
      "text/plain": [
       "<matplotlib.legend.Legend at 0x7fe6b1f4c950>"
      ]
     },
     "execution_count": 50,
     "metadata": {},
     "output_type": "execute_result"
    },
    {
     "data": {
      "image/png": "[encoded data removed]",
      "text/plain": [
       "<Figure size 432x288 with 1 Axes>"
      ]
     },
     "metadata": {
      "needs_background": "light"
     },
     "output_type": "display_data"
    }
   ],
   "source": [
    "lr_coef = lr_grid.best_estimator_.coef_\n",
    "svm_coef = svm_grid.best_estimator_.coef_\n",
    "\n",
    "lr_coef.sort()\n",
    "svm_coef.sort()\n",
    "\n",
    "param_important = range(0,20)\n",
    "\n",
    "fig, ax = plt.subplots(1,1)\n",
    "ax1 = plt.gca()\n",
    "\n",
    "ax1.scatter(param_important, lr_coef[0][len(lr_coef[0])-21:len(lr_coef[0])-1], color='b', label='Logistic Regression')\n",
    "ax1.scatter(param_important, svm_coef[0][len(svm_coef[0])-21:len(svm_coef[0])-1], color='r', label='Linear SVC')\n",
    "\n",
    "ax1.legend()"
   ]
  }
 ],
 "metadata": {
  "kernelspec": {
   "display_name": "Python 3",
   "language": "python",
   "name": "python3"
  },
  "language_info": {
   "codemirror_mode": {
    "name": "ipython",
    "version": 3
   },
   "file_extension": ".py",
   "mimetype": "text/x-python",
   "name": "python",
   "nbconvert_exporter": "python",
   "pygments_lexer": "ipython3",
   "version": "3.7.4"
  }
 },
 "nbformat": 4,
 "nbformat_minor": 2
}
